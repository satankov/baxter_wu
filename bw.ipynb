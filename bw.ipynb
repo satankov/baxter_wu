{
 "cells": [
  {
   "cell_type": "code",
   "execution_count": 50,
   "metadata": {
    "ExecuteTime": {
     "end_time": "2020-06-07T13:58:07.688253Z",
     "start_time": "2020-06-07T13:58:07.681241Z"
    }
   },
   "outputs": [],
   "source": [
    "#Uses python3\n",
    "\n",
    "import numpy as np\n",
    "import pandas as pd \n",
    "import time\n",
    "import matplotlib\n",
    "import matplotlib.pyplot as plt\n",
    "import sys"
   ]
  },
  {
   "cell_type": "code",
   "execution_count": 62,
   "metadata": {
    "ExecuteTime": {
     "end_time": "2020-06-07T14:13:19.738675Z",
     "start_time": "2020-06-07T14:13:19.704342Z"
    }
   },
   "outputs": [],
   "source": [
    "#====================== all functions ======================\n",
    "class BW:\n",
    "    def __init__(self, L, state):\n",
    "        self.L = L\n",
    "        self.J = 1    \n",
    "        self.N_Relax = 90\n",
    "        self.N_mc = 1\n",
    "        self.N_avg =  10\n",
    "        self.state = state \n",
    "        self.mask = create_mask(L)\n",
    "        self.edict = gen_e_dict()\n",
    "        \n",
    "        self.e = []    \n",
    "        self.m = []  \n",
    "        \n",
    "    def clear(self):\n",
    "        \"\"\"Reinitialize the data structures for the next query after the previous query.\"\"\"\n",
    "        self.e = []    \n",
    "        self.m = [] \n",
    "        pass\n",
    "    \n",
    "    def get_conf(self,i,j):\n",
    "        \"\"\"формируем конфигурацию, по вышеописанному правилу таблицы энергий\"\"\"\n",
    "        s = self.state\n",
    "        arr = ([s[i,j]]+[s[i-1,j]]+[s[i,j+1]]+[s[i+1,j+1]]+\n",
    "               [s[i+1,j]]+[s[i,j-1]]+[s[i-1,j-1]])\n",
    "        return arr\n",
    "    \n",
    "    def flip(self,j,k):\n",
    "        \"\"\"перевернуть спин j,k\"\"\"\n",
    "        self.state[j,k] *= -1\n",
    "        pass\n",
    "        \n",
    "    def step(self, K):\n",
    "        \"\"\"perform 1 Metropolis step\"\"\"\n",
    "        j,k = np.random.randint(-1,self.L-1), np.random.randint(-1,self.L-1)\n",
    "        arr = self.get_conf(j,k)\n",
    "        e_jk = self.edict[str(arr)]\n",
    "        if e_jk > 0:\n",
    "            self.flip(j,k)\n",
    "        elif np.random.uniform() <= np.exp(2*e_jk*K): #uniformly distributed over interval [low, high)\n",
    "            self.flip(j,k)\n",
    "        pass\n",
    "    \n",
    "    def mc_step(self, K):\n",
    "        \"\"\"perform L*L flips for 1 MC step\"\"\"\n",
    "        for _ in range(self.L**2):\n",
    "            self.step(K)\n",
    "        pass\n",
    "            \n",
    "    def calc_e(self, st):\n",
    "        \"\"\"calculate energy per site\n",
    "            # expland state matrix\"\"\"\n",
    "        a = np.concatenate((st[self.L-1].reshape(1,self.L), st, st[0].reshape(1,self.L)), axis=0) \n",
    "        b = np.concatenate((a[:,-1].reshape(self.L+2,1),a,a[:,0].reshape(self.L+2,1)), axis=1)\n",
    "        return -np.sum(b[1:-1, 1:-1]*b[2:, 2:]*(b[2:, 1:-1]+b[1:-1, 2:]))/(self.L*self.L)  \n",
    "\n",
    "    def calc_ms(self, st):\n",
    "        \"\"\"magnetization\"\"\"\n",
    "        msr = np.array([np.sum(st[self.mask==i]) for i in [0,1,2]])/(self.L*self.L)\n",
    "        return np.sqrt(np.sum(msr*msr))\n",
    "    \n",
    "    def model_em(self,T):\n",
    "        self.clear()\n",
    "        K = self.J/T\n",
    "        #relax be4 AVG\n",
    "        for x in range(self.N_Relax):\n",
    "            self.mc_step(K)\n",
    "        for _ in range(self.N_avg):        \n",
    "            for __ in range(self.N_mc):  \n",
    "                self.mc_step(K)\n",
    "            self.e += [self.calc_e(self.state)]\n",
    "            self.m += [self.calc_ms(self.state)]\n",
    "        return self.e, self.m\n",
    "        \n",
    "    \n",
    "def gen_state(L):\n",
    "    \"\"\"generate random init. state with lenght L*L and q=[-1,1]\"\"\"\n",
    "    np.random.seed(1)\n",
    "    return np.array([np.random.choice([-1,1]) for _ in range(L*L)]).reshape(L,L)\n",
    "\n",
    "def create_mask(L):\n",
    "    \"\"\"маска в виде 3 под-решёток\"\"\"\n",
    "    a = np.asarray([i % 3 for i in range(L)])\n",
    "    return (a + a[:, None])%3\n",
    "\n",
    "def gen_e0(n):\n",
    "    \"\"\"генерирует все возможные последовательности из 7 спинов\"\"\"\n",
    "    n_b = str(bin(n))[2:]\n",
    "    n_arr = [-1]*(7-len(n_b)) + [int(x) if x=='1' else -1 for x in n_b]\n",
    "    return n_arr\n",
    "\n",
    "def calc_e_dict(arr):\n",
    "    \"\"\"вычисляет энергию конкретной конфигурации\"\"\"\n",
    "    summa = (\n",
    "        arr[1]*arr[2] + arr[2]*arr[3] + arr[3]*arr[4] +\n",
    "        arr[4]*arr[5] + arr[5]*arr[6] + arr[6]*arr[1]\n",
    "    )\n",
    "    return -arr[0]*summa\n",
    "\n",
    "def gen_e_dict():\n",
    "    \"\"\"генерируем и заоплняем словарь всех энергий\"\"\"\n",
    "    d = dict()\n",
    "    for i in range(0,128):\n",
    "        conf = gen_e0(i)\n",
    "        d[str(conf)] = calc_e_dict(conf)\n",
    "    return d\n"
   ]
  },
  {
   "cell_type": "code",
   "execution_count": null,
   "metadata": {},
   "outputs": [],
   "source": [
    "if __name__ == '__main__':\n",
    "    L = 81\n",
    "    rnd.seed(int(sys.argv[1]))\n",
    "    np.random.seed(int(sys.argv[1]))\n",
    "    df_e, df_m = [pd.DataFrame() for i in range(2)]\n",
    "    bw = BW(L, gen_state(L))\n",
    "\n",
    "    tc = 1/(np.log(2**0.5+1)/2) # 2.269185314213022\n",
    "    t_ = np.array([0.001, 0.002, 0.005, 0.01, 0.05, 0.1, 0.2, 0.3])\n",
    "    t = np.round(-t_*tc+tc, 3)  #low\n",
    "    # t_high = np.round(t_*tc+tc, 3)\n",
    "    # t = np.concatenate((t_low, t_high), axis=None)\n",
    "    t.sort()\n",
    "\n",
    "    st = time.time()\n",
    "    for ind,T in enumerate(t):\n",
    "        e,m = bw.model_em(T)\n",
    "        df_e.insert(ind,T,e, True)\n",
    "        df_m.insert(ind,T,m, True)\n",
    " \n",
    "    title = 'bw_L'+str(L)+'_avg'+str(bw.N_avg)+'_mc'+str(bw.N_mc)+'_after'+str(bw.N_Relax)+'mc_'\n",
    "    df_e.to_csv('export/e_'+title+'seed'+str(sys.argv[1])+'.csv', index = None, header=True)\n",
    "    df_m.to_csv('export/m_'+title+'seed'+str(sys.argv[1])+'.csv', index = None, header=True)\n",
    "    print('im done in ',time.time()-st)"
   ]
  },
  {
   "cell_type": "code",
   "execution_count": 60,
   "metadata": {
    "ExecuteTime": {
     "end_time": "2020-06-07T14:02:03.737367Z",
     "start_time": "2020-06-07T14:01:46.225012Z"
    }
   },
   "outputs": [
    {
     "name": "stdout",
     "output_type": "stream",
     "text": [
      "2.16 s ± 52.6 ms per loop (mean ± std. dev. of 7 runs, 1 loop each)\n"
     ]
    }
   ],
   "source": [
    "global L, q, J\n",
    "L = 100\n",
    "q = 4      # components\n",
    "J = 1      # interaction energy\n",
    "bw = BW(L, gen_state(L))\n",
    "\n",
    "%timeit [bw.mc_step(1) for _ in range(10)]"
   ]
  },
  {
   "cell_type": "code",
   "execution_count": 64,
   "metadata": {
    "ExecuteTime": {
     "end_time": "2020-06-07T14:13:30.310987Z",
     "start_time": "2020-06-07T14:13:28.038649Z"
    }
   },
   "outputs": [
    {
     "name": "stdout",
     "output_type": "stream",
     "text": [
      "-0.0048\n",
      "-1.1\n"
     ]
    }
   ],
   "source": [
    "global L, q, J\n",
    "L = 100\n",
    "J = 1      # interaction energy\n",
    "bw = BW(L, gen_state(L))\n",
    "print(bw.calc_e(bw.state))\n",
    "\n",
    "for _ in range(10):\n",
    "    bw.mc_step(1)\n",
    "print(bw.calc_e(bw.state))"
   ]
  },
  {
   "cell_type": "code",
   "execution_count": 61,
   "metadata": {
    "ExecuteTime": {
     "end_time": "2020-06-07T14:02:51.244411Z",
     "start_time": "2020-06-07T14:02:51.238819Z"
    }
   },
   "outputs": [],
   "source": [
    "# py     -- 2.16 s ± 52.6 ms per loop (mean ± std. dev. of 7 runs, 1 loop each)     # original"
   ]
  },
  {
   "cell_type": "code",
   "execution_count": null,
   "metadata": {},
   "outputs": [],
   "source": []
  },
  {
   "cell_type": "markdown",
   "metadata": {},
   "source": [
    "v2"
   ]
  },
  {
   "cell_type": "code",
   "execution_count": null,
   "metadata": {},
   "outputs": [],
   "source": []
  },
  {
   "cell_type": "code",
   "execution_count": null,
   "metadata": {},
   "outputs": [],
   "source": []
  },
  {
   "cell_type": "code",
   "execution_count": null,
   "metadata": {},
   "outputs": [],
   "source": []
  },
  {
   "cell_type": "code",
   "execution_count": null,
   "metadata": {},
   "outputs": [],
   "source": []
  },
  {
   "cell_type": "code",
   "execution_count": null,
   "metadata": {},
   "outputs": [],
   "source": []
  },
  {
   "cell_type": "code",
   "execution_count": null,
   "metadata": {},
   "outputs": [],
   "source": []
  }
 ],
 "metadata": {
  "kernelspec": {
   "display_name": "Python 3",
   "language": "python",
   "name": "python3"
  },
  "language_info": {
   "codemirror_mode": {
    "name": "ipython",
    "version": 3
   },
   "file_extension": ".py",
   "mimetype": "text/x-python",
   "name": "python",
   "nbconvert_exporter": "python",
   "pygments_lexer": "ipython3",
   "version": "3.6.8"
  },
  "toc": {
   "base_numbering": 1,
   "nav_menu": {},
   "number_sections": true,
   "sideBar": true,
   "skip_h1_title": false,
   "title_cell": "Table of Contents",
   "title_sidebar": "Contents",
   "toc_cell": false,
   "toc_position": {},
   "toc_section_display": true,
   "toc_window_display": false
  },
  "varInspector": {
   "cols": {
    "lenName": 16,
    "lenType": 16,
    "lenVar": 40
   },
   "kernels_config": {
    "python": {
     "delete_cmd_postfix": "",
     "delete_cmd_prefix": "del ",
     "library": "var_list.py",
     "varRefreshCmd": "print(var_dic_list())"
    },
    "r": {
     "delete_cmd_postfix": ") ",
     "delete_cmd_prefix": "rm(",
     "library": "var_list.r",
     "varRefreshCmd": "cat(var_dic_list()) "
    }
   },
   "types_to_exclude": [
    "module",
    "function",
    "builtin_function_or_method",
    "instance",
    "_Feature"
   ],
   "window_display": false
  }
 },
 "nbformat": 4,
 "nbformat_minor": 2
}
