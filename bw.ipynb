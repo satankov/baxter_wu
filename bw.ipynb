{
 "cells": [
  {
   "cell_type": "code",
   "execution_count": 50,
   "metadata": {
    "ExecuteTime": {
     "end_time": "2020-06-07T13:58:07.688253Z",
     "start_time": "2020-06-07T13:58:07.681241Z"
    }
   },
   "outputs": [],
   "source": [
    "#Uses python3\n",
    "\n",
    "import numpy as np\n",
    "import pandas as pd \n",
    "import time\n",
    "import matplotlib\n",
    "import matplotlib.pyplot as plt\n",
    "import sys"
   ]
  },
  {
   "cell_type": "code",
   "execution_count": 115,
   "metadata": {
    "ExecuteTime": {
     "end_time": "2020-06-07T18:13:45.333210Z",
     "start_time": "2020-06-07T18:13:45.303451Z"
    }
   },
   "outputs": [],
   "source": [
    "def coord(site):\n",
    "    \"\"\"get coordinate i of vector\"\"\"\n",
    "    x = site // L\n",
    "    y = site - x*L\n",
    "    return (x,y)\n",
    "\n",
    "def get(i):\n",
    "    \"\"\"fixin' boundary\"\"\"\n",
    "    if i<0: return i\n",
    "    else: return i % L\n",
    "    \n",
    "def get_neigh():\n",
    "    \"\"\"get neighbour's arr\"\"\"\n",
    "    s = np.arange(L**2).reshape(L,L)\n",
    "    nei = []\n",
    "    for site in range(L*L):\n",
    "        i,j = coord(site)\n",
    "        nei += [s[get(i-1),get(j-1)],s[get(i-1),get(j)],s[get(i),get(j+1)],\n",
    "                s[get(i+1),get(j+1)],s[get(i+1),get(j)],s[get(i),get(j-1)]]\n",
    "    return np.array(nei, dtype=np.int32).reshape(L*L,6)\n",
    "\n",
    "#=============================================================================\n",
    "\n",
    "def gen_state():\n",
    "    \"\"\"generate random init. state with lenght L*L and q=[-1,1]\"\"\"\n",
    "    return np.array([np.random.choice([-1,1]) for _ in range(L*L)], dtype=np.int32)\n",
    "\n",
    "def mc_choice(dE,T):\n",
    "    \"\"\"принимаем или не принимаем переворот спина?\"\"\"\n",
    "    if dE > 0:\n",
    "        return True\n",
    "    elif np.random.uniform() <= np.exp(2*dE/T): \n",
    "        return True\n",
    "    else:\n",
    "        return False\n",
    "\n",
    "def calc_dE(site, nei):\n",
    "    \"\"\"calculate dE\"\"\"\n",
    "    summa = (\n",
    "        nei[0]*nei[1]+nei[1]*nei[2]+\n",
    "        nei[2]*nei[3]+nei[3]*nei[4]+\n",
    "        nei[4]*nei[5]+nei[5]*nei[0]\n",
    "    )\n",
    "    return -site*summa\n",
    "    \n",
    "def step(s,nei,T):\n",
    "    \"\"\"крутим 1 спин\"\"\"\n",
    "    j,k = np.random.randint(-1,L-1), np.random.randint(-1,L-1) \n",
    "    if j==-1: j=L-1\n",
    "    if k==-1: k=L-1\n",
    "    site = j*L+k\n",
    "    \n",
    "    neigh = s[nei[site,:]]               \n",
    "    dE = calc_dE(s[site], neigh)\n",
    "    if mc_choice(dE,T):\n",
    "        s[site] *= -1\n",
    "\n",
    "\n",
    "def mc_step(s,nei,T):\n",
    "    \"\"\"perform L*L flips for 1 MC step\"\"\"\n",
    "    for _ in range(L*L):\n",
    "        step(s,nei,T)\n",
    "        \n",
    "        \n",
    "def model(T,N_avg=10,N_mc=10,Relax=10):\n",
    "    \"\"\"Моделируем АТ\"\"\"\n",
    "    E, M = [], []\n",
    "\n",
    "    state = gen_state()\n",
    "    nei = get_neigh()\n",
    "    \n",
    "    #relax $Relax times be4 AVG\n",
    "    for __ in range(Relax):\n",
    "            mc_step(state, nei, T)\n",
    "    #AVG every $N_mc steps\n",
    "    for _ in range(N_avg):\n",
    "        for __ in range(N_mc):\n",
    "            mc_step(state, nei, T)\n",
    "        E += [calc_e(state)]\n",
    "        M += [calc_m(state)]\n",
    "    \n",
    "    return E, M\n",
    "        \n",
    "#===========================================================================================\n",
    "\n",
    "def create_mask():\n",
    "    \"\"\"маска в виде 3 под-решёток\"\"\"\n",
    "    a = np.asarray([i % 3 for i in range(L)])\n",
    "    return (a + a[:, None])%3\n",
    "\n",
    "def calc_e(st):\n",
    "    st = st.reshape(L,L)\n",
    "    \"\"\"calculate energy per site\n",
    "        # expland state matrix\"\"\"\n",
    "    a = np.concatenate((st[L-1].reshape(1,L), st, st[0].reshape(1,L)), axis=0) \n",
    "    b = np.concatenate((a[:,-1].reshape(L+2,1),a,a[:,0].reshape(L+2,1)), axis=1)\n",
    "    return -np.sum(b[1:-1, 1:-1]*b[2:, 2:]*(b[2:, 1:-1]+b[1:-1, 2:]))/(L*L)  \n",
    "\n",
    "def calc_ms(st):\n",
    "    \"\"\"magnetization\"\"\"\n",
    "    st = st.reshape(L,L)\n",
    "    msr = np.array([np.sum(st[mask==i]) for i in [0,1,2]])/(L*L)\n",
    "    return np.sqrt(np.sum(msr*msr))\n",
    "\n"
   ]
  },
  {
   "cell_type": "code",
   "execution_count": 118,
   "metadata": {
    "ExecuteTime": {
     "end_time": "2020-06-07T18:14:31.821669Z",
     "start_time": "2020-06-07T18:14:07.671888Z"
    }
   },
   "outputs": [
    {
     "name": "stdout",
     "output_type": "stream",
     "text": [
      "3.02 s ± 81.8 ms per loop (mean ± std. dev. of 7 runs, 1 loop each)\n"
     ]
    }
   ],
   "source": [
    "global L, mask\n",
    "L = 100\n",
    "mask = create_mask()\n",
    "\n",
    "np.random.seed(1)\n",
    "s = gen_state(); nei = get_neigh()\n",
    "\n",
    "%timeit [mc_step(s, nei, 1) for _ in range(10)]"
   ]
  },
  {
   "cell_type": "code",
   "execution_count": 116,
   "metadata": {
    "ExecuteTime": {
     "end_time": "2020-06-07T18:13:52.386958Z",
     "start_time": "2020-06-07T18:13:48.942400Z"
    }
   },
   "outputs": [
    {
     "name": "stdout",
     "output_type": "stream",
     "text": [
      "-0.0048\n",
      "-1.1\n"
     ]
    }
   ],
   "source": [
    "global L, mask\n",
    "L = 100\n",
    "mask = create_mask()\n",
    "\n",
    "np.random.seed(1)\n",
    "s = gen_state(); nei = get_neigh()\n",
    "print(calc_e(s))\n",
    "\n",
    "for _ in range(10):\n",
    "    mc_step(s, nei, 1)\n",
    "print(calc_e(s))"
   ]
  },
  {
   "cell_type": "code",
   "execution_count": 61,
   "metadata": {
    "ExecuteTime": {
     "end_time": "2020-06-07T14:02:51.244411Z",
     "start_time": "2020-06-07T14:02:51.238819Z"
    }
   },
   "outputs": [],
   "source": [
    "# py     -- 2.16 s ± 52.6 ms per loop     -- original\n",
    "# py2    -- 3.02 s ± 81.8 ms per loop     -- tabulate neigh\n"
   ]
  },
  {
   "cell_type": "code",
   "execution_count": null,
   "metadata": {},
   "outputs": [],
   "source": []
  },
  {
   "cell_type": "code",
   "execution_count": null,
   "metadata": {},
   "outputs": [],
   "source": []
  },
  {
   "cell_type": "code",
   "execution_count": null,
   "metadata": {},
   "outputs": [],
   "source": []
  },
  {
   "cell_type": "code",
   "execution_count": null,
   "metadata": {},
   "outputs": [],
   "source": []
  },
  {
   "cell_type": "code",
   "execution_count": null,
   "metadata": {},
   "outputs": [],
   "source": []
  },
  {
   "cell_type": "code",
   "execution_count": null,
   "metadata": {},
   "outputs": [],
   "source": []
  }
 ],
 "metadata": {
  "kernelspec": {
   "display_name": "Python 3",
   "language": "python",
   "name": "python3"
  },
  "language_info": {
   "codemirror_mode": {
    "name": "ipython",
    "version": 3
   },
   "file_extension": ".py",
   "mimetype": "text/x-python",
   "name": "python",
   "nbconvert_exporter": "python",
   "pygments_lexer": "ipython3",
   "version": "3.6.8"
  },
  "toc": {
   "base_numbering": 1,
   "nav_menu": {},
   "number_sections": true,
   "sideBar": true,
   "skip_h1_title": false,
   "title_cell": "Table of Contents",
   "title_sidebar": "Contents",
   "toc_cell": false,
   "toc_position": {},
   "toc_section_display": true,
   "toc_window_display": false
  },
  "varInspector": {
   "cols": {
    "lenName": 16,
    "lenType": 16,
    "lenVar": 40
   },
   "kernels_config": {
    "python": {
     "delete_cmd_postfix": "",
     "delete_cmd_prefix": "del ",
     "library": "var_list.py",
     "varRefreshCmd": "print(var_dic_list())"
    },
    "r": {
     "delete_cmd_postfix": ") ",
     "delete_cmd_prefix": "rm(",
     "library": "var_list.r",
     "varRefreshCmd": "cat(var_dic_list()) "
    }
   },
   "types_to_exclude": [
    "module",
    "function",
    "builtin_function_or_method",
    "instance",
    "_Feature"
   ],
   "window_display": false
  }
 },
 "nbformat": 4,
 "nbformat_minor": 2
}
