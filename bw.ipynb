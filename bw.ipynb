{
 "cells": [
  {
   "cell_type": "code",
   "execution_count": 50,
   "metadata": {
    "ExecuteTime": {
     "end_time": "2020-06-07T13:58:07.688253Z",
     "start_time": "2020-06-07T13:58:07.681241Z"
    }
   },
   "outputs": [],
   "source": [
    "#Uses python3\n",
    "\n",
    "import numpy as np\n",
    "import pandas as pd \n",
    "import time\n",
    "import matplotlib\n",
    "import matplotlib.pyplot as plt\n",
    "import sys"
   ]
  },
  {
   "cell_type": "code",
   "execution_count": 77,
   "metadata": {
    "ExecuteTime": {
     "end_time": "2020-06-07T16:06:05.528036Z",
     "start_time": "2020-06-07T16:06:05.489837Z"
    }
   },
   "outputs": [],
   "source": [
    "def gen_e0(n):\n",
    "    \"\"\"генерирует все возможные последовательности из 7 спинов\"\"\"\n",
    "    n_b = str(bin(n))[2:]\n",
    "    n_arr = [-1]*(7-len(n_b)) + [int(x) if x=='1' else -1 for x in n_b]\n",
    "    return n_arr\n",
    "\n",
    "def calc_e_dict(arr):\n",
    "    \"\"\"вычисляет энергию конкретной конфигурации\"\"\"\n",
    "    summa = (\n",
    "        arr[1]*arr[2] + arr[2]*arr[3] + arr[3]*arr[4] +\n",
    "        arr[4]*arr[5] + arr[5]*arr[6] + arr[6]*arr[1]\n",
    "    )\n",
    "    return -arr[0]*summa\n",
    "\n",
    "def gen_e_dict():\n",
    "    \"\"\"генерируем и заоплняем словарь всех энергий\"\"\"\n",
    "    d = dict()\n",
    "    for i in range(0,128):\n",
    "        conf = gen_e0(i)\n",
    "        d[str(conf)] = calc_e_dict(conf)\n",
    "    return d\n",
    "\n",
    "def gen_state():\n",
    "    \"\"\"generate random init. state with lenght L*L and q=[-1,1]\"\"\"\n",
    "    return np.array([np.random.choice([-1,1]) for _ in range(L*L)]).reshape(L,L)\n",
    "\n",
    "def get_conf(s,i,j):\n",
    "    \"\"\"формируем конфигурацию, по вышеописанному правилу таблицы энергий\"\"\"\n",
    "    arr = ([s[i,j]]+[s[i-1,j]]+[s[i,j+1]]+[s[i+1,j+1]]+\n",
    "               [s[i+1,j]]+[s[i,j-1]]+[s[i-1,j-1]])\n",
    "    return arr\n",
    "\n",
    "def step(state, edict, T):\n",
    "    \"\"\"perform 1 Metropolis step\"\"\"\n",
    "    j,k = np.random.randint(-1,L-1), np.random.randint(-1,L-1)\n",
    "    arr = get_conf(state,j,k)\n",
    "    e_jk = edict[str(arr)]\n",
    "    if e_jk > 0:\n",
    "        state[j,k] *= -1\n",
    "    elif np.random.uniform() <= np.exp(2*e_jk/T): \n",
    "        state[j,k] *= -1\n",
    "\n",
    "def mc_step(state, edict, T):\n",
    "    \"\"\"perform L*L flips for 1 MC step\"\"\"\n",
    "    for _ in range(L**2):\n",
    "        step(state, edict, T)\n",
    "        \n",
    "        \n",
    "def model(T,N_avg=10,N_mc=10,Relax=10):\n",
    "    \"\"\"Моделируем АТ\"\"\"\n",
    "    E, M = [], []\n",
    "\n",
    "    state = gen_state()\n",
    "    edict = gen_e_dict()\n",
    "    \n",
    "    #relax $Relax times be4 AVG\n",
    "    for __ in range(Relax):\n",
    "            mc_step(state, edict, T)\n",
    "    #AVG every $N_mc steps\n",
    "    for _ in range(N_avg):\n",
    "        for __ in range(N_mc):\n",
    "            mc_step(state, edict, T)\n",
    "        E += [calc_e(state)]\n",
    "        M += [calc_m(state)]\n",
    "    \n",
    "    return E, M\n",
    "        \n",
    "#===========================================================================================\n",
    "\n",
    "def create_mask(L):\n",
    "    \"\"\"маска в виде 3 под-решёток\"\"\"\n",
    "    a = np.asarray([i % 3 for i in range(L)])\n",
    "    return (a + a[:, None])%3\n",
    "\n",
    "def calc_e(st):\n",
    "    \"\"\"calculate energy per site\n",
    "        # expland state matrix\"\"\"\n",
    "    a = np.concatenate((st[L-1].reshape(1,L), st, st[0].reshape(1,L)), axis=0) \n",
    "    b = np.concatenate((a[:,-1].reshape(L+2,1),a,a[:,0].reshape(L+2,1)), axis=1)\n",
    "    return -np.sum(b[1:-1, 1:-1]*b[2:, 2:]*(b[2:, 1:-1]+b[1:-1, 2:]))/(L*L)  \n",
    "\n",
    "def calc_ms(st):\n",
    "    \"\"\"magnetization\"\"\"\n",
    "    msr = np.array([np.sum(st[mask==i]) for i in [0,1,2]])/(L*L)\n",
    "    return np.sqrt(np.sum(msr*msr))\n",
    "\n"
   ]
  },
  {
   "cell_type": "code",
   "execution_count": 70,
   "metadata": {
    "ExecuteTime": {
     "end_time": "2020-06-07T15:42:32.597334Z",
     "start_time": "2020-06-07T15:42:14.047444Z"
    }
   },
   "outputs": [
    {
     "name": "stdout",
     "output_type": "stream",
     "text": [
      "2.32 s ± 193 ms per loop (mean ± std. dev. of 7 runs, 1 loop each)\n"
     ]
    }
   ],
   "source": [
    "global L, mask\n",
    "L = 100\n",
    "mask = create_mask(L)\n",
    "\n",
    "np.random.seed(1)\n",
    "s = gen_state(); nei = gen_e_dict()\n",
    "\n",
    "%timeit [mc_step(s, nei, 1) for _ in range(10)]"
   ]
  },
  {
   "cell_type": "code",
   "execution_count": 82,
   "metadata": {
    "ExecuteTime": {
     "end_time": "2020-06-07T16:09:34.171612Z",
     "start_time": "2020-06-07T16:09:32.046500Z"
    }
   },
   "outputs": [
    {
     "name": "stdout",
     "output_type": "stream",
     "text": [
      "-0.0048\n",
      "-1.1\n"
     ]
    }
   ],
   "source": [
    "global L, mask\n",
    "L = 100\n",
    "mask = create_mask(L)\n",
    "\n",
    "np.random.seed(1)\n",
    "s = gen_state(); edict = gen_e_dict()\n",
    "print(calc_e(s))\n",
    "\n",
    "for _ in range(10):\n",
    "    mc_step(s, edict, 1)\n",
    "print(calc_e(s))"
   ]
  },
  {
   "cell_type": "code",
   "execution_count": 61,
   "metadata": {
    "ExecuteTime": {
     "end_time": "2020-06-07T14:02:51.244411Z",
     "start_time": "2020-06-07T14:02:51.238819Z"
    }
   },
   "outputs": [],
   "source": [
    "# py     -- 2.16 s ± 52.6 ms per loop (mean ± std. dev. of 7 runs, 1 loop each)     # original\n"
   ]
  },
  {
   "cell_type": "code",
   "execution_count": null,
   "metadata": {},
   "outputs": [],
   "source": []
  },
  {
   "cell_type": "code",
   "execution_count": null,
   "metadata": {},
   "outputs": [],
   "source": []
  },
  {
   "cell_type": "code",
   "execution_count": null,
   "metadata": {},
   "outputs": [],
   "source": []
  },
  {
   "cell_type": "code",
   "execution_count": null,
   "metadata": {},
   "outputs": [],
   "source": []
  }
 ],
 "metadata": {
  "kernelspec": {
   "display_name": "Python 3",
   "language": "python",
   "name": "python3"
  },
  "language_info": {
   "codemirror_mode": {
    "name": "ipython",
    "version": 3
   },
   "file_extension": ".py",
   "mimetype": "text/x-python",
   "name": "python",
   "nbconvert_exporter": "python",
   "pygments_lexer": "ipython3",
   "version": "3.6.8"
  },
  "toc": {
   "base_numbering": 1,
   "nav_menu": {},
   "number_sections": true,
   "sideBar": true,
   "skip_h1_title": false,
   "title_cell": "Table of Contents",
   "title_sidebar": "Contents",
   "toc_cell": false,
   "toc_position": {},
   "toc_section_display": true,
   "toc_window_display": false
  },
  "varInspector": {
   "cols": {
    "lenName": 16,
    "lenType": 16,
    "lenVar": 40
   },
   "kernels_config": {
    "python": {
     "delete_cmd_postfix": "",
     "delete_cmd_prefix": "del ",
     "library": "var_list.py",
     "varRefreshCmd": "print(var_dic_list())"
    },
    "r": {
     "delete_cmd_postfix": ") ",
     "delete_cmd_prefix": "rm(",
     "library": "var_list.r",
     "varRefreshCmd": "cat(var_dic_list()) "
    }
   },
   "types_to_exclude": [
    "module",
    "function",
    "builtin_function_or_method",
    "instance",
    "_Feature"
   ],
   "window_display": false
  }
 },
 "nbformat": 4,
 "nbformat_minor": 2
}
