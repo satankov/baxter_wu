{
 "cells": [
  {
   "cell_type": "code",
   "execution_count": 1,
   "metadata": {
    "ExecuteTime": {
     "end_time": "2020-06-10T18:34:12.145102Z",
     "start_time": "2020-06-10T18:34:10.685084Z"
    }
   },
   "outputs": [],
   "source": [
    "import numpy as np\n",
    "import random as rnd\n",
    "import matplotlib\n",
    "import matplotlib.pyplot as plt\n",
    "import time\n",
    "import pandas as pd"
   ]
  },
  {
   "cell_type": "code",
   "execution_count": 31,
   "metadata": {
    "ExecuteTime": {
     "end_time": "2020-06-10T18:52:33.034110Z",
     "start_time": "2020-06-10T18:52:31.901550Z"
    }
   },
   "outputs": [
    {
     "data": {
      "text/html": [
       "<div>\n",
       "<style scoped>\n",
       "    .dataframe tbody tr th:only-of-type {\n",
       "        vertical-align: middle;\n",
       "    }\n",
       "\n",
       "    .dataframe tbody tr th {\n",
       "        vertical-align: top;\n",
       "    }\n",
       "\n",
       "    .dataframe thead th {\n",
       "        text-align: right;\n",
       "    }\n",
       "</style>\n",
       "<table border=\"1\" class=\"dataframe\">\n",
       "  <thead>\n",
       "    <tr style=\"text-align: right;\">\n",
       "      <th></th>\n",
       "      <th>1.588</th>\n",
       "      <th>1.815</th>\n",
       "      <th>2.042</th>\n",
       "      <th>2.156</th>\n",
       "      <th>2.246</th>\n",
       "      <th>2.258</th>\n",
       "      <th>2.265</th>\n",
       "      <th>2.267</th>\n",
       "      <th>2.271</th>\n",
       "      <th>2.274</th>\n",
       "      <th>2.281</th>\n",
       "      <th>2.292</th>\n",
       "      <th>2.383</th>\n",
       "      <th>2.496</th>\n",
       "      <th>2.723</th>\n",
       "      <th>2.95</th>\n",
       "    </tr>\n",
       "  </thead>\n",
       "  <tbody>\n",
       "    <tr>\n",
       "      <th>79995</th>\n",
       "      <td>-1.982929</td>\n",
       "      <td>-1.984758</td>\n",
       "      <td>-1.910380</td>\n",
       "      <td>-1.864655</td>\n",
       "      <td>-1.655540</td>\n",
       "      <td>-1.634202</td>\n",
       "      <td>-1.613474</td>\n",
       "      <td>-1.298887</td>\n",
       "      <td>-1.534217</td>\n",
       "      <td>-1.242189</td>\n",
       "      <td>-1.319006</td>\n",
       "      <td>-1.076970</td>\n",
       "      <td>-1.006859</td>\n",
       "      <td>-0.877610</td>\n",
       "      <td>-0.762384</td>\n",
       "      <td>-0.666667</td>\n",
       "    </tr>\n",
       "    <tr>\n",
       "      <th>79996</th>\n",
       "      <td>-1.990855</td>\n",
       "      <td>-1.972565</td>\n",
       "      <td>-1.921353</td>\n",
       "      <td>-1.878067</td>\n",
       "      <td>-1.629934</td>\n",
       "      <td>-1.614083</td>\n",
       "      <td>-1.574455</td>\n",
       "      <td>-1.325103</td>\n",
       "      <td>-1.534827</td>\n",
       "      <td>-1.254382</td>\n",
       "      <td>-1.322664</td>\n",
       "      <td>-1.126962</td>\n",
       "      <td>-0.982472</td>\n",
       "      <td>-0.862978</td>\n",
       "      <td>-0.727633</td>\n",
       "      <td>-0.709953</td>\n",
       "    </tr>\n",
       "    <tr>\n",
       "      <th>79997</th>\n",
       "      <td>-1.989636</td>\n",
       "      <td>-1.969517</td>\n",
       "      <td>-1.912818</td>\n",
       "      <td>-1.834172</td>\n",
       "      <td>-1.620180</td>\n",
       "      <td>-1.591526</td>\n",
       "      <td>-1.573236</td>\n",
       "      <td>-1.346441</td>\n",
       "      <td>-1.510440</td>\n",
       "      <td>-1.240969</td>\n",
       "      <td>-1.286084</td>\n",
       "      <td>-1.123304</td>\n",
       "      <td>-0.970279</td>\n",
       "      <td>-0.883707</td>\n",
       "      <td>-0.741655</td>\n",
       "      <td>-0.691663</td>\n",
       "    </tr>\n",
       "    <tr>\n",
       "      <th>79998</th>\n",
       "      <td>-1.991465</td>\n",
       "      <td>-1.970736</td>\n",
       "      <td>-1.907331</td>\n",
       "      <td>-1.831733</td>\n",
       "      <td>-1.631154</td>\n",
       "      <td>-1.532998</td>\n",
       "      <td>-1.536656</td>\n",
       "      <td>-1.280597</td>\n",
       "      <td>-1.522024</td>\n",
       "      <td>-1.289742</td>\n",
       "      <td>-1.275720</td>\n",
       "      <td>-1.151959</td>\n",
       "      <td>-0.959305</td>\n",
       "      <td>-0.850785</td>\n",
       "      <td>-0.733730</td>\n",
       "      <td>-0.698369</td>\n",
       "    </tr>\n",
       "    <tr>\n",
       "      <th>79999</th>\n",
       "      <td>-1.993294</td>\n",
       "      <td>-1.968298</td>\n",
       "      <td>-1.901844</td>\n",
       "      <td>-1.820759</td>\n",
       "      <td>-1.601280</td>\n",
       "      <td>-1.610425</td>\n",
       "      <td>-1.535437</td>\n",
       "      <td>-1.303155</td>\n",
       "      <td>-1.487273</td>\n",
       "      <td>-1.226337</td>\n",
       "      <td>-1.239750</td>\n",
       "      <td>-1.158665</td>\n",
       "      <td>-0.966011</td>\n",
       "      <td>-0.923335</td>\n",
       "      <td>-0.751410</td>\n",
       "      <td>-0.692273</td>\n",
       "    </tr>\n",
       "  </tbody>\n",
       "</table>\n",
       "</div>"
      ],
      "text/plain": [
       "          1.588     1.815     2.042     2.156     2.246     2.258     2.265  \\\n",
       "79995 -1.982929 -1.984758 -1.910380 -1.864655 -1.655540 -1.634202 -1.613474   \n",
       "79996 -1.990855 -1.972565 -1.921353 -1.878067 -1.629934 -1.614083 -1.574455   \n",
       "79997 -1.989636 -1.969517 -1.912818 -1.834172 -1.620180 -1.591526 -1.573236   \n",
       "79998 -1.991465 -1.970736 -1.907331 -1.831733 -1.631154 -1.532998 -1.536656   \n",
       "79999 -1.993294 -1.968298 -1.901844 -1.820759 -1.601280 -1.610425 -1.535437   \n",
       "\n",
       "          2.267     2.271     2.274     2.281     2.292     2.383     2.496  \\\n",
       "79995 -1.298887 -1.534217 -1.242189 -1.319006 -1.076970 -1.006859 -0.877610   \n",
       "79996 -1.325103 -1.534827 -1.254382 -1.322664 -1.126962 -0.982472 -0.862978   \n",
       "79997 -1.346441 -1.510440 -1.240969 -1.286084 -1.123304 -0.970279 -0.883707   \n",
       "79998 -1.280597 -1.522024 -1.289742 -1.275720 -1.151959 -0.959305 -0.850785   \n",
       "79999 -1.303155 -1.487273 -1.226337 -1.239750 -1.158665 -0.966011 -0.923335   \n",
       "\n",
       "          2.723     2.950  \n",
       "79995 -0.762384 -0.666667  \n",
       "79996 -0.727633 -0.709953  \n",
       "79997 -0.741655 -0.691663  \n",
       "79998 -0.733730 -0.698369  \n",
       "79999 -0.751410 -0.692273  "
      ]
     },
     "execution_count": 31,
     "metadata": {},
     "output_type": "execute_result"
    }
   ],
   "source": [
    "L = 81\n",
    "\n",
    "title = '_bw_L81_avg10000_mc20_after50000mc_seed'\n",
    "\n",
    "tc = 1/(np.log(2**0.5+1)/2) # 2.269185314213022\n",
    "t = pd.read_csv('export/e'+title+'1.csv').columns\n",
    "t = list(map(float,t))\n",
    "\n",
    "#===================================================================================================\n",
    "\n",
    "df_e,df_m=[pd.DataFrame(columns=t) for i in range(2)]\n",
    "\n",
    "for i in range(1,9):\n",
    "    dfe = pd.read_csv('export/e'+title+str(i)+'.csv')\n",
    "    dfm = pd.read_csv('export/m'+title+str(i)+'.csv')\n",
    "    \n",
    "    df_e=df_e.append(dfe, ignore_index=True) #append to global dfs\n",
    "    df_m=df_m.append(dfm, ignore_index=True) #append to global dfs\n",
    "\n",
    "\n",
    "df_e.tail()"
   ]
  },
  {
   "cell_type": "code",
   "execution_count": 32,
   "metadata": {
    "ExecuteTime": {
     "end_time": "2020-06-10T18:52:38.552264Z",
     "start_time": "2020-06-10T18:52:38.508352Z"
    }
   },
   "outputs": [],
   "source": [
    "len_t = len(t)\n",
    "runs = 8\n",
    "chunk = int(len(df_e)/runs)\n",
    "\n",
    "def calc_C(e,T):\n",
    "    \"\"\"Specific heat\"\"\"\n",
    "    e2_ = np.mean(np.array(e)**2)   # <e^2> \n",
    "    e_2 = np.mean(e)**2             # <e>^2\n",
    "    return (e2_ - e_2)/(T**2)\n",
    "\n",
    "def calc_U(m):\n",
    "    \"\"\"Binder's cumulant\"\"\"\n",
    "    m2 = np.array(m)**2   #m^2\n",
    "    return 1-((np.mean(m2**2))/(3*np.mean(m2)**2))\n",
    "\n",
    "U,C = [],[]\n",
    "for j in range(runs):\n",
    "    from_ = int(chunk*j)\n",
    "    to_ = int(chunk*(j+1))\n",
    "    evals = df_e.values[from_:to_]\n",
    "    mvals = df_m.values[from_:to_]\n",
    "    for i in range(len(t)):\n",
    "        C += [calc_C(evals[:,i],t[i])]\n",
    "        U += [calc_U(mvals[:,i])]\n",
    "    \n",
    "U_np = np.array(U).reshape(runs,len_t)\n",
    "C_np = np.array(C).reshape(runs,len_t)\n",
    "U_mean, U_std = [],[]\n",
    "C_mean, C_std = [],[]\n",
    "for k in range(len_t):\n",
    "    up = U_np[:,k]\n",
    "    cp = C_np[:,k]\n",
    "    \n",
    "    U_mean += [np.mean(up)]\n",
    "    U_std += [np.std(up)]\n",
    "    \n",
    "    C_mean += [np.mean(cp)]\n",
    "    C_std += [np.std(cp)]"
   ]
  },
  {
   "cell_type": "code",
   "execution_count": 39,
   "metadata": {
    "ExecuteTime": {
     "end_time": "2020-06-10T18:54:43.080007Z",
     "start_time": "2020-06-10T18:54:42.612422Z"
    }
   },
   "outputs": [
    {
     "data": {
      "image/png": "[encoded data removed]",
      "text/plain": [
       "<Figure size 1008x432 with 2 Axes>"
      ]
     },
     "metadata": {
      "needs_background": "light"
     },
     "output_type": "display_data"
    }
   ],
   "source": [
    "plt.figure(figsize=(14, 6))\n",
    "\n",
    "plt.subplot(1, 2, 1)\n",
    "plt.plot(t, U_mean, '.-', c='blue')\n",
    "plt.errorbar(t, U_mean, yerr=U_std)\n",
    "plt.axvline(tc, 0, 1, c='r', label='T_c')\n",
    "plt.title('Baxter-Wu  L=%d | U(T)'%(L))\n",
    "plt.ylabel('U(T)')\n",
    "plt.xlabel('T')\n",
    "plt.legend()\n",
    "plt.grid(True)\n",
    "\n",
    "\n",
    "plt.subplot(1, 2, 2)\n",
    "plt.plot(t, C_mean, '.-', c='blue')\n",
    "plt.errorbar(t, C_mean, yerr=C_std)\n",
    "plt.axvline(tc, 0, 1, c='r', label='T_c')\n",
    "plt.title('Baxter-Wu  L=%d | C(T)'%(L))\n",
    "plt.ylabel('C(T)')\n",
    "plt.xlabel('T')\n",
    "plt.legend()\n",
    "plt.grid(True)"
   ]
  },
  {
   "cell_type": "code",
   "execution_count": null,
   "metadata": {
    "ExecuteTime": {
     "end_time": "2020-06-10T18:52:14.963075Z",
     "start_time": "2020-06-10T18:52:14.949596Z"
    }
   },
   "outputs": [],
   "source": []
  },
  {
   "cell_type": "code",
   "execution_count": null,
   "metadata": {},
   "outputs": [],
   "source": []
  },
  {
   "cell_type": "code",
   "execution_count": null,
   "metadata": {},
   "outputs": [],
   "source": []
  }
 ],
 "metadata": {
  "kernelspec": {
   "display_name": "Python 3",
   "language": "python",
   "name": "python3"
  },
  "language_info": {
   "codemirror_mode": {
    "name": "ipython",
    "version": 3
   },
   "file_extension": ".py",
   "mimetype": "text/x-python",
   "name": "python",
   "nbconvert_exporter": "python",
   "pygments_lexer": "ipython3",
   "version": "3.6.8"
  },
  "toc": {
   "base_numbering": 1,
   "nav_menu": {},
   "number_sections": true,
   "sideBar": true,
   "skip_h1_title": false,
   "title_cell": "Table of Contents",
   "title_sidebar": "Contents",
   "toc_cell": false,
   "toc_position": {},
   "toc_section_display": true,
   "toc_window_display": false
  },
  "varInspector": {
   "cols": {
    "lenName": 16,
    "lenType": 16,
    "lenVar": 40
   },
   "kernels_config": {
    "python": {
     "delete_cmd_postfix": "",
     "delete_cmd_prefix": "del ",
     "library": "var_list.py",
     "varRefreshCmd": "print(var_dic_list())"
    },
    "r": {
     "delete_cmd_postfix": ") ",
     "delete_cmd_prefix": "rm(",
     "library": "var_list.r",
     "varRefreshCmd": "cat(var_dic_list()) "
    }
   },
   "types_to_exclude": [
    "module",
    "function",
    "builtin_function_or_method",
    "instance",
    "_Feature"
   ],
   "window_display": false
  }
 },
 "nbformat": 4,
 "nbformat_minor": 2
}
